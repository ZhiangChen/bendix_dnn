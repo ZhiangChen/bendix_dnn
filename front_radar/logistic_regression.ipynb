{
 "cells": [
  {
   "cell_type": "code",
   "execution_count": 1,
   "metadata": {
    "collapsed": true
   },
   "outputs": [],
   "source": [
    "from six.moves import cPickle as pickle\n",
    "import matplotlib.pyplot as plt\n",
    "import os\n",
    "import tensorflow as tf\n",
    "import numpy as np"
   ]
  },
  {
   "cell_type": "code",
   "execution_count": 2,
   "metadata": {
    "collapsed": false
   },
   "outputs": [
    {
     "name": "stdout",
     "output_type": "stream",
     "text": [
      "('pos_data: ', (10000, 25))\n",
      "('neg_data: ', (10000, 25))\n"
     ]
    }
   ],
   "source": [
    "wd = os.getcwd()\n",
    "file_name = wd+'/front_dist_data'\n",
    "with open(file_name, 'rb') as f:\n",
    "    save = pickle.load(f)\n",
    "    pos_data = save['pos_data']\n",
    "    neg_data = save['neg_data']\n",
    "    del save\n",
    "\n",
    "print('pos_data: ',pos_data.shape)\n",
    "print('neg_data: ',neg_data.shape)\n",
    "pos_nm, pos_dim = pos_data.shape\n",
    "neg_nm, neg_dim = neg_data.shape\n",
    "assert pos_dim == neg_dim\n",
    "data_dim = pos_dim\n",
    "\n",
    "dataset = np.concatenate((pos_data, neg_data), axis=0)\n",
    "labels = np.concatenate((np.ones(pos_nm),np.zeros(neg_nm)), axis=0)\n"
   ]
  },
  {
   "cell_type": "code",
   "execution_count": 3,
   "metadata": {
    "collapsed": false
   },
   "outputs": [
    {
     "name": "stdout",
     "output_type": "stream",
     "text": [
      "('label', array([ 0.]))\n",
      "('label', array([ 0.]))\n",
      "('label', array([ 1.]))\n"
     ]
    }
   ],
   "source": [
    "'''Randomize Data'''\n",
    "def randomize(dataset, labels):\n",
    "    permutation = np.random.permutation(labels.shape[0])\n",
    "    shuffled_dataset = dataset[permutation,:]\n",
    "    shuffled_labels = labels[permutation].reshape(-1,1)\n",
    "    return shuffled_dataset, shuffled_labels\n",
    "\n",
    "dataset, labels = randomize(dataset, labels)\n",
    "\n",
    "for i in range(3):\n",
    "\tindex = np.random.randint(dataset.shape[0])\n",
    "\tplt.plot(dataset[index,:])\n",
    "\tprint('label',labels[index])\n",
    "\tplt.show()\n",
    "\n",
    "'''Assign Dataset'''\n",
    "data_nm = dataset.shape[0]\n",
    "train_dataset = dataset[0:int(0.6*data_nm),:].astype(np.float32)\n",
    "train_labels = labels[0:int(0.6*data_nm),:].astype(np.float32)\n",
    "valid_dataset = dataset[int(0.6*data_nm):int(0.8*data_nm),:].astype(np.float32)\n",
    "valid_labels = labels[int(0.6*data_nm):int(0.8*data_nm),:].astype(np.float32)\n",
    "test_dataset =  dataset[int(0.8*data_nm):,:].astype(np.float32)\n",
    "test_labels = labels[int(0.8*data_nm):,:].astype(np.float32)\n"
   ]
  },
  {
   "cell_type": "code",
   "execution_count": 4,
   "metadata": {
    "collapsed": false
   },
   "outputs": [],
   "source": [
    "'''Define MSE'''\n",
    "def MSE(predictions, labels):\n",
    "    return np.mean((predictions-labels)**2)"
   ]
  },
  {
   "cell_type": "code",
   "execution_count": 16,
   "metadata": {
    "collapsed": false
   },
   "outputs": [],
   "source": [
    "batch_size = 20\n",
    "hidden_nm = 10\n",
    "\n",
    "graph = tf.Graph()\n",
    "with graph.as_default():\n",
    "\n",
    "    tf_train_dataset = tf.placeholder(tf.float32, shape=(batch_size,data_dim))\n",
    "    tf_train_labels = tf.placeholder(tf.float32, shape=(batch_size,1))\n",
    "    tf_valid_dataset = tf.constant(valid_dataset)\n",
    "    tf_test_dataset = tf.constant(test_dataset)\n",
    "\n",
    "    weights1 = tf.Variable(tf.truncated_normal([data_dim,hidden_nm], stddev=1.0))\n",
    "    biases1 = tf.Variable(tf.zeros([hidden_nm]))\n",
    "    \n",
    "    weights2 = tf.Variable(tf.truncated_normal([hidden_nm,1], stddev=1.0))\n",
    "    biases2 = tf.Variable(tf.zeros([1]))\n",
    "    \n",
    "    def model(data):\n",
    "        hidden_in = tf.matmul(data, weights1) + biases1\n",
    "        hidden_out = tf.nn.relu(hidden_in)\n",
    "        \n",
    "        o = tf.matmul(hidden_out, weights2) + biases2\n",
    "        return o\n",
    "\n",
    "    train_prediction = model(tf_train_dataset)\n",
    "    loss = tf.reduce_mean(tf.square(tf_train_labels - train_prediction))\n",
    "    optimizer = tf.train.GradientDescentOptimizer(0.01).minimize(loss)\n",
    "\n",
    "    valid_prediction = model(tf_valid_dataset)\n",
    "    test_prediction = model(tf_test_dataset)"
   ]
  },
  {
   "cell_type": "code",
   "execution_count": 17,
   "metadata": {
    "collapsed": false
   },
   "outputs": [
    {
     "name": "stdout",
     "output_type": "stream",
     "text": [
      "Initialized\n",
      "****************************************\n",
      "Minibatch loss at step 0: 0.542610\n",
      "Minibatch MSE: 0.543\n",
      "Validation MSE: 0.534\n",
      "****************************************\n",
      "Minibatch loss at step 1000: 0.126708\n",
      "Minibatch MSE: 0.127\n",
      "Validation MSE: 0.136\n",
      "****************************************\n",
      "Minibatch loss at step 2000: 0.064544\n",
      "Minibatch MSE: 0.065\n",
      "Validation MSE: 0.130\n",
      "****************************************\n",
      "Minibatch loss at step 3000: 0.103932\n",
      "Minibatch MSE: 0.104\n",
      "Validation MSE: 0.127\n",
      "****************************************\n",
      "Minibatch loss at step 4000: 0.128556\n",
      "Minibatch MSE: 0.129\n",
      "Validation MSE: 0.122\n",
      "****************************************\n",
      "Minibatch loss at step 5000: 0.122910\n",
      "Minibatch MSE: 0.123\n",
      "Validation MSE: 0.118\n",
      "****************************************\n",
      "Minibatch loss at step 6000: 0.071682\n",
      "Minibatch MSE: 0.072\n",
      "Validation MSE: 0.115\n",
      "****************************************\n",
      "Minibatch loss at step 7000: 0.112688\n",
      "Minibatch MSE: 0.113\n",
      "Validation MSE: 0.113\n",
      "****************************************\n",
      "Minibatch loss at step 8000: 0.107181\n",
      "Minibatch MSE: 0.107\n",
      "Validation MSE: 0.107\n",
      "****************************************\n",
      "Minibatch loss at step 9000: 0.173820\n",
      "Minibatch MSE: 0.174\n",
      "Validation MSE: 0.105\n",
      "Test MSE: 0.102\n",
      "Input an index of test data (or Enter to quit): 1\n",
      "[ 0.]\n",
      "[[-0.02340201]]\n",
      "Input an index of test data (or Enter to quit): 23\n",
      "[ 0.]\n",
      "[[ 0.10225669]]\n",
      "Input an index of test data (or Enter to quit): 4\n",
      "[ 1.]\n",
      "[[ 0.61959016]]\n",
      "Input an index of test data (or Enter to quit): 3\n",
      "[ 0.]\n",
      "[[ 0.46969333]]\n",
      "Input an index of test data (or Enter to quit): 54\n",
      "[ 1.]\n",
      "[[ 0.73967028]]\n",
      "Input an index of test data (or Enter to quit): 12\n",
      "[ 1.]\n",
      "[[ 0.77364874]]\n",
      "Input an index of test data (or Enter to quit): 56\n",
      "[ 0.]\n",
      "[[ 0.04564634]]\n",
      "Input an index of test data (or Enter to quit): 78\n",
      "[ 1.]\n",
      "[[ 0.74282873]]\n",
      "Input an index of test data (or Enter to quit): \n"
     ]
    },
    {
     "ename": "SyntaxError",
     "evalue": "unexpected EOF while parsing (<string>, line 0)",
     "output_type": "error",
     "traceback": [
      "\u001b[0;36m  File \u001b[0;32m\"<string>\"\u001b[0;36m, line \u001b[0;32munknown\u001b[0m\n\u001b[0;31m    \u001b[0m\n\u001b[0m    ^\u001b[0m\n\u001b[0;31mSyntaxError\u001b[0m\u001b[0;31m:\u001b[0m unexpected EOF while parsing\n"
     ]
    }
   ],
   "source": [
    "nm_steps = 10000\n",
    "with tf.Session(graph=graph) as session:\n",
    "    tf.initialize_all_variables().run()\n",
    "    print('Initialized')\n",
    "    for step in range(nm_steps):\n",
    "        offset = (step * batch_size) % (train_labels.shape[0] - batch_size)\n",
    "        batch_data = train_dataset[offset:(offset + batch_size), :]\n",
    "        batch_labels = train_labels[offset:(offset + batch_size), :]\n",
    "        feed_dict = {tf_train_dataset : batch_data, tf_train_labels : batch_labels}\n",
    "        _, l, predictions = session.run([optimizer, loss, train_prediction], feed_dict=feed_dict)\n",
    "        if (step % 1000 == 0):\n",
    "            print('*'*40)\n",
    "            print('Minibatch loss at step %d: %f' % (step, l))\n",
    "            print('Minibatch MSE: %.3f' % MSE(predictions, batch_labels))\n",
    "            print('Validation MSE: %.3f' % MSE(valid_prediction.eval(), valid_labels))\n",
    "    print('Test MSE: %.3f' % MSE(test_prediction.eval(), test_labels))\n",
    "    i_test = 0\n",
    "    while(i_test!=''):\n",
    "        i_test = input(\"Input an index of test data (or Enter to quit): \")\n",
    "        label = test_labels[int(i_test),:]\n",
    "        print(label)\n",
    "        prd = model(test_dataset[i_test,:].reshape(1,25)).eval()\n",
    "        print(prd)"
   ]
  }
 ],
 "metadata": {
  "kernelspec": {
   "display_name": "Python 2",
   "language": "python",
   "name": "python2"
  },
  "language_info": {
   "codemirror_mode": {
    "name": "ipython",
    "version": 2
   },
   "file_extension": ".py",
   "mimetype": "text/x-python",
   "name": "python",
   "nbconvert_exporter": "python",
   "pygments_lexer": "ipython2",
   "version": "2.7.6"
  }
 },
 "nbformat": 4,
 "nbformat_minor": 0
}
