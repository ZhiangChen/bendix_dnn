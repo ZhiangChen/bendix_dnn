{
 "cells": [
  {
   "cell_type": "code",
   "execution_count": 1,
   "metadata": {
    "collapsed": true
   },
   "outputs": [],
   "source": [
    "from six.moves import cPickle as pickle\n",
    "import matplotlib.pyplot as plt\n",
    "import os\n",
    "import tensorflow as tf\n",
    "import numpy as np"
   ]
  },
  {
   "cell_type": "code",
   "execution_count": 2,
   "metadata": {
    "collapsed": false
   },
   "outputs": [
    {
     "name": "stdout",
     "output_type": "stream",
     "text": [
      "('pos_data: ', (10000, 25))\n",
      "('neg_data: ', (10000, 25))\n"
     ]
    }
   ],
   "source": [
    "wd = os.getcwd()\n",
    "file_name = wd+'/front_dist_data'\n",
    "with open(file_name, 'rb') as f:\n",
    "    save = pickle.load(f)\n",
    "    pos_data = save['pos_data']\n",
    "    neg_data = save['neg_data']\n",
    "    del save\n",
    "\n",
    "print('pos_data: ',pos_data.shape)\n",
    "print('neg_data: ',neg_data.shape)\n",
    "pos_nm, pos_dim = pos_data.shape\n",
    "neg_nm, neg_dim = neg_data.shape\n",
    "assert pos_dim == neg_dim\n",
    "data_dim = pos_dim\n",
    "\n",
    "dataset = np.concatenate((pos_data, neg_data), axis=0)\n",
    "labels = np.concatenate((np.ones(pos_nm),np.zeros(neg_nm)), axis=0)\n"
   ]
  },
  {
   "cell_type": "code",
   "execution_count": 3,
   "metadata": {
    "collapsed": false
   },
   "outputs": [
    {
     "name": "stdout",
     "output_type": "stream",
     "text": [
      "('label', array([ 0.]))\n",
      "('label', array([ 1.]))\n",
      "('label', array([ 0.]))\n"
     ]
    }
   ],
   "source": [
    "'''Randomize Data'''\n",
    "def randomize(dataset, labels):\n",
    "    permutation = np.random.permutation(labels.shape[0])\n",
    "    shuffled_dataset = dataset[permutation,:]\n",
    "    shuffled_labels = labels[permutation].reshape(-1,1)\n",
    "    return shuffled_dataset, shuffled_labels\n",
    "\n",
    "dataset, labels = randomize(dataset, labels)\n",
    "\n",
    "for i in range(3):\n",
    "\tindex = np.random.randint(dataset.shape[0])\n",
    "\tplt.plot(dataset[index,:])\n",
    "\tprint('label',labels[index])\n",
    "\tplt.show()\n",
    "\n",
    "'''Assign Dataset'''\n",
    "data_nm = dataset.shape[0]\n",
    "train_dataset = dataset[0:int(0.6*data_nm),:].astype(np.float32)\n",
    "train_labels = labels[0:int(0.6*data_nm),:].astype(np.float32)\n",
    "valid_dataset = dataset[int(0.6*data_nm):int(0.8*data_nm),:].astype(np.float32)\n",
    "valid_labels = labels[int(0.6*data_nm):int(0.8*data_nm),:].astype(np.float32)\n",
    "test_dataset =  dataset[int(0.8*data_nm):,:].astype(np.float32)\n",
    "test_labels = labels[int(0.8*data_nm):,:].astype(np.float32)\n"
   ]
  },
  {
   "cell_type": "code",
   "execution_count": 18,
   "metadata": {
    "collapsed": false
   },
   "outputs": [],
   "source": [
    "'''Define MSE'''\n",
    "def MSE(predictions, labels):\n",
    "    return np.mean((predictions-labels)**2)"
   ]
  },
  {
   "cell_type": "code",
   "execution_count": 62,
   "metadata": {
    "collapsed": false
   },
   "outputs": [],
   "source": [
    "batch_size = 1\n",
    "\n",
    "graph = tf.Graph()\n",
    "with graph.as_default():\n",
    "\n",
    "    tf_train_dataset = tf.placeholder(tf.float32, shape=(batch_size,data_dim))\n",
    "    tf_train_labels = tf.placeholder(tf.float32, shape=(batch_size,1))\n",
    "    tf_valid_dataset = tf.constant(valid_dataset)\n",
    "    tf_test_dataset = tf.constant(test_dataset)\n",
    "\n",
    "    weights1 = tf.Variable(tf.truncated_normal([data_dim,1], stddev=1.0))\n",
    "    biases1 = tf.Variable(tf.zeros([1]))\n",
    "    \n",
    "    def model(data):\n",
    "        linear = tf.matmul(data, weights1) + biases1\n",
    "        return tf.sigmoid(linear)\n",
    "\n",
    "    train_prediction = model(tf_train_dataset)\n",
    "    loss = tf.reduce_mean(tf.square(tf_train_labels - train_prediction))\n",
    "    optimizer = tf.train.GradientDescentOptimizer(0.01).minimize(loss)\n",
    "\n",
    "    valid_prediction = model(tf_valid_dataset)\n",
    "    test_prediction = model(tf_test_dataset)"
   ]
  },
  {
   "cell_type": "code",
   "execution_count": 63,
   "metadata": {
    "collapsed": false
   },
   "outputs": [
    {
     "name": "stdout",
     "output_type": "stream",
     "text": [
      "Initialized\n",
      "****************************************\n",
      "Minibatch loss at step 0: 0.246531\n",
      "Minibatch MSE: 0.247\n",
      "Validation MSE: 0.253\n",
      "****************************************\n",
      "Minibatch loss at step 20: 0.252853\n",
      "Minibatch MSE: 0.253\n",
      "Validation MSE: 0.253\n",
      "****************************************\n",
      "Minibatch loss at step 40: 0.240549\n",
      "Minibatch MSE: 0.241\n",
      "Validation MSE: 0.253\n",
      "****************************************\n",
      "Minibatch loss at step 60: 0.272621\n",
      "Minibatch MSE: 0.273\n",
      "Validation MSE: 0.253\n",
      "****************************************\n",
      "Minibatch loss at step 80: 0.287505\n",
      "Minibatch MSE: 0.288\n",
      "Validation MSE: 0.253\n",
      "****************************************\n",
      "Minibatch loss at step 100: 0.247528\n",
      "Minibatch MSE: 0.248\n",
      "Validation MSE: 0.253\n",
      "****************************************\n",
      "Minibatch loss at step 120: 0.193827\n",
      "Minibatch MSE: 0.194\n",
      "Validation MSE: 0.253\n",
      "****************************************\n",
      "Minibatch loss at step 140: 0.244041\n",
      "Minibatch MSE: 0.244\n",
      "Validation MSE: 0.253\n",
      "****************************************\n",
      "Minibatch loss at step 160: 0.245928\n",
      "Minibatch MSE: 0.246\n",
      "Validation MSE: 0.253\n",
      "****************************************\n",
      "Minibatch loss at step 180: 0.237940\n",
      "Minibatch MSE: 0.238\n",
      "Validation MSE: 0.253\n",
      "Test MSE: 0.252\n",
      "Input an index of test data (or Enter to quit): 3\n",
      "[ 0.]\n",
      "[[ 0.54217422]]\n",
      "Input an index of test data (or Enter to quit): 23\n",
      "[ 0.]\n",
      "[[ 0.4886063]]\n",
      "Input an index of test data (or Enter to quit): 45\n",
      "[ 1.]\n",
      "[[ 0.51759088]]\n",
      "Input an index of test data (or Enter to quit): 23\n",
      "[ 0.]\n",
      "[[ 0.4886063]]\n",
      "Input an index of test data (or Enter to quit): 54\n",
      "[ 1.]\n",
      "[[ 0.50527894]]\n",
      "Input an index of test data (or Enter to quit): 65\n",
      "[ 1.]\n",
      "[[ 0.51778215]]\n",
      "Input an index of test data (or Enter to quit): 67\n",
      "[ 1.]\n",
      "[[ 0.51193947]]\n",
      "Input an index of test data (or Enter to quit): 78\n",
      "[ 0.]\n",
      "[[ 0.50753409]]\n",
      "Input an index of test data (or Enter to quit): 89\n",
      "[ 1.]\n",
      "[[ 0.51343352]]\n",
      "Input an index of test data (or Enter to quit): \n"
     ]
    },
    {
     "ename": "SyntaxError",
     "evalue": "unexpected EOF while parsing (<string>, line 0)",
     "output_type": "error",
     "traceback": [
      "\u001b[0;36m  File \u001b[0;32m\"<string>\"\u001b[0;36m, line \u001b[0;32munknown\u001b[0m\n\u001b[0;31m    \u001b[0m\n\u001b[0m    ^\u001b[0m\n\u001b[0;31mSyntaxError\u001b[0m\u001b[0;31m:\u001b[0m unexpected EOF while parsing\n"
     ]
    }
   ],
   "source": [
    "nm_steps = 200\n",
    "with tf.Session(graph=graph) as session:\n",
    "    tf.initialize_all_variables().run()\n",
    "    print('Initialized')\n",
    "    for step in range(nm_steps):\n",
    "        offset = (step * batch_size) % (train_labels.shape[0] - batch_size)\n",
    "        batch_data = train_dataset[offset:(offset + batch_size), :]\n",
    "        batch_labels = train_labels[offset:(offset + batch_size), :]\n",
    "        feed_dict = {tf_train_dataset : batch_data, tf_train_labels : batch_labels}\n",
    "        _, l, predictions = session.run([optimizer, loss, train_prediction], feed_dict=feed_dict)\n",
    "        if (step % 20 == 0):\n",
    "            print('*'*40)\n",
    "            print('Minibatch loss at step %d: %f' % (step, l))\n",
    "            print('Minibatch MSE: %.3f' % MSE(predictions, batch_labels))\n",
    "            print('Validation MSE: %.3f' % MSE(valid_prediction.eval(), valid_labels))\n",
    "    print('Test MSE: %.3f' % MSE(test_prediction.eval(), test_labels))\n",
    "    i_test = 0\n",
    "    while(i_test!=''):\n",
    "        i_test = input(\"Input an index of test data (or Enter to quit): \")\n",
    "        label = test_labels[int(i_test),:]\n",
    "        print(label)\n",
    "        prd = model(test_dataset[i_test,:].reshape(1,25)).eval()\n",
    "        print(prd)"
   ]
  }
 ],
 "metadata": {
  "kernelspec": {
   "display_name": "Python 2",
   "language": "python",
   "name": "python2"
  },
  "language_info": {
   "codemirror_mode": {
    "name": "ipython",
    "version": 2
   },
   "file_extension": ".py",
   "mimetype": "text/x-python",
   "name": "python",
   "nbconvert_exporter": "python",
   "pygments_lexer": "ipython2",
   "version": "2.7.6"
  }
 },
 "nbformat": 4,
 "nbformat_minor": 0
}
